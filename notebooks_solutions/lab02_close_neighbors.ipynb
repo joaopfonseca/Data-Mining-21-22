{
 "cells": [
  {
   "cell_type": "markdown",
   "metadata": {},
   "source": [
    "# Distance Matrix"
   ]
  },
  {
   "cell_type": "code",
   "execution_count": null,
   "metadata": {},
   "outputs": [],
   "source": [
    "# imports\n",
    "from sklearn import datasets\n",
    "import numpy as np"
   ]
  },
  {
   "cell_type": "code",
   "execution_count": null,
   "metadata": {},
   "outputs": [],
   "source": [
    "# abstract\n",
    "dataset = datasets.load_iris()"
   ]
  },
  {
   "cell_type": "code",
   "execution_count": null,
   "metadata": {},
   "outputs": [],
   "source": [
    "# dictionary\n",
    "dataset.keys()"
   ]
  },
  {
   "cell_type": "code",
   "execution_count": null,
   "metadata": {},
   "outputs": [],
   "source": [
    "dataset[\"feature_names\"]"
   ]
  },
  {
   "cell_type": "code",
   "execution_count": null,
   "metadata": {},
   "outputs": [],
   "source": [
    "data = dataset[\"data\"]\n",
    "# data  # data is a numpy array data structure. Think of it as a matrix of data (or as an excel spreadsheet)"
   ]
  },
  {
   "cell_type": "code",
   "execution_count": null,
   "metadata": {},
   "outputs": [],
   "source": [
    "data.shape"
   ]
  },
  {
   "cell_type": "code",
   "execution_count": null,
   "metadata": {},
   "outputs": [],
   "source": [
    "# euclidean distance of 2 observations\n",
    "p1 = data[50]\n",
    "p2 = data[100]\n",
    "sum(((p1 - p2)**2))**(1/2)"
   ]
  },
  {
   "cell_type": "code",
   "execution_count": null,
   "metadata": {},
   "outputs": [],
   "source": [
    "# initialize distance matrix. What will be its final shape?\n",
    "dist = []"
   ]
  },
  {
   "cell_type": "code",
   "execution_count": null,
   "metadata": {},
   "outputs": [],
   "source": [
    "# Build the distance matrix. Use 2 for loops, the append list method and the euclidean distance formula\n",
    "for i in range(data.shape[0]):\n",
    "    dist_row = []\n",
    "    for j in range(data.shape[0]):\n",
    "        single_dist = sum((data[i] - data[j]) ** 2) ** (1/2)\n",
    "        dist_row.append(single_dist)\n",
    "    dist.append(dist_row)        "
   ]
  },
  {
   "cell_type": "code",
   "execution_count": null,
   "metadata": {},
   "outputs": [],
   "source": [
    "# dist"
   ]
  },
  {
   "cell_type": "code",
   "execution_count": null,
   "metadata": {},
   "outputs": [],
   "source": [
    "# another import (usually all imports are done at the top of the script/ notebook)\n",
    "import seaborn as sns"
   ]
  },
  {
   "cell_type": "code",
   "execution_count": null,
   "metadata": {},
   "outputs": [],
   "source": [
    "sns.heatmap(dist)"
   ]
  },
  {
   "cell_type": "markdown",
   "metadata": {},
   "source": [
    "# Plotting data: \n",
    "Don't worry about the code as that's not the objective of the exercise and we will learn how to plot data in future classes\n",
    "### How can we represent an observation in a N-dimensional Space"
   ]
  },
  {
   "cell_type": "code",
   "execution_count": null,
   "metadata": {},
   "outputs": [],
   "source": [
    "# another import (usually all imports are done at the top of the script/ notebook)\n",
    "import matplotlib.pyplot as plt"
   ]
  },
  {
   "cell_type": "code",
   "execution_count": null,
   "metadata": {},
   "outputs": [],
   "source": [
    "# 2D scatter plot\n",
    "plt.scatter(data[:, 0], data[:, 1])\n",
    "plt.xlabel(dataset[\"feature_names\"][0])\n",
    "plt.ylabel(dataset[\"feature_names\"][1])\n",
    "plt.show()"
   ]
  },
  {
   "cell_type": "code",
   "execution_count": null,
   "metadata": {},
   "outputs": [],
   "source": [
    "# 1D scatter plot\n",
    "plt.scatter(data[:, 0], [0 for i in range(data.shape[0])])\n",
    "plt.xlabel(dataset[\"feature_names\"][0])\n",
    "plt.show()"
   ]
  },
  {
   "cell_type": "code",
   "execution_count": null,
   "metadata": {},
   "outputs": [],
   "source": [
    "# 3D scatter plot\n",
    "fig = plt.figure(figsize=(14, 7))  # defining a figure so we can add a 3d subplot\n",
    "ax = fig.add_subplot(111, projection=\"3d\")\n",
    "ax.scatter(data[:, 0], data[:, 1], data[:, 2])\n",
    "ax.set_xlabel(dataset[\"feature_names\"][0])\n",
    "ax.set_ylabel(dataset[\"feature_names\"][1])\n",
    "ax.set_zlabel(dataset[\"feature_names\"][2])\n",
    "plt.show()"
   ]
  },
  {
   "cell_type": "markdown",
   "metadata": {},
   "source": [
    "## Finding nearest neighbors"
   ]
  },
  {
   "cell_type": "markdown",
   "metadata": {},
   "source": [
    "### Detailed Explanation of the this exercise:\n",
    "\n",
    "Let's start off simple. If we want to find the minimum value we use the following code:\n",
    "***\n",
    "```python\n",
    "min_args, min_dist = (None, 9e99)  # initialize these variables outside the loop so their scope is defined globally and we can update and track their values at each iteration.\n",
    "for id_r, row in enumerate(dist):  # enumerate to not only iterate along the rows of dist but also to keep track of the row index we are at: id_r\n",
    "    dist_ = min(row)  # minimum distance in the current row\n",
    "    if dist_ <= min_dist:\n",
    "        min_dist = dist_  # if the minimum distance of the row is <= the minimum global distance, then we update the later\n",
    "        min_args = id_r  # and we also are able to know at which row index we found the minimum global distance!\n",
    "```\n",
    "\n",
    "Next step. Let's try to additionally find the column index responsible for the minimum global distance. Then, together with the row index we can know which observations are closest together (i.e. have the smallest distance):\n",
    "***\n",
    "```python\n",
    "min_args, min_dist = (None, 9e99)\n",
    "for id_r, row in enumerate(dist):\n",
    "    dist_ = min(row)\n",
    "    if dist_ <= min_dist:\n",
    "        min_dist = dist_\n",
    "        for id_c, dist_val in enumerate(row):\n",
    "            if dist_val == dist_:  # to find the column index responsible for the current minimum global distance we need to iterate along the current row distances and if at a given iteration we find that the corresponding distance is the same as the current minimum global distance, then we know that we the tracked column index id_c is the one responsible for the current minimum global distance\n",
    "                min_args = (id_r, id_c)\n",
    "                break  # after finding the column index responsible for the current minimum global distance, we exit the loop as we don't need to search any longer\n",
    "```\n",
    "The way we search for the minimum distance and the corresponding observations is explained. However we have to take care of a very important detail. Since the distance matrix is a symmetric and 0-diagonal matrix (distance of the observation with itself is 0) we should only perform the search over either the upper or lower traingle of the matrix. Let's implement this:\n",
    "***\n",
    "```python\n",
    "min_args, min_dist = (None, 9e99)\n",
    "for id_r, row in enumerate(dist):\n",
    "    row_relevant = row.copy()[:id_r]  # we define row_relevant as a copy of row that only holds a slice of the values corresponding to the distances in the lower diagonal of the matrix (i.e. excludes value in row corresponding to diagonal and upper triangle as it holds redundant information). We will only look for the minimum distance and the corresponding observations in these values\n",
    "    dist_ = min(row_relevant) if len(row_relevant)>0 else 9e99  # the if condition ensures we do not call the min() function on an empty list (happens at first iteration when id_r = 0)\n",
    "    if dist_<=min_dist:\n",
    "        min_dist = dist_\n",
    "        for id_c, dist_val in enumerate(row_relevant):\n",
    "            if dist_val==dist_:\n",
    "                min_args = (id_r, id_c)\n",
    "                break\n",
    "```\n",
    "\n",
    "Try to figure out what happens in each iteration to see if you understood! (hint: use prints inside the loop to see the values of each variable at each iteration)"
   ]
  },
  {
   "cell_type": "code",
   "execution_count": null,
   "metadata": {},
   "outputs": [],
   "source": [
    "# get variables to save closest neighbors later\n",
    "min_args, min_dist = (None, 9e99)\n",
    "for id_r, row in enumerate(dist):\n",
    "    row_relevant = row.copy()[:id_r]\n",
    "    dist_ = min(row_relevant) if len(row_relevant)>0 else 9e99\n",
    "    \n",
    "    if dist_<=min_dist:\n",
    "        min_dist = dist_\n",
    "        for id_c, dist_val in enumerate(row_relevant):\n",
    "            if dist_val==dist_:\n",
    "                min_args = (id_r, id_c)\n",
    "                break"
   ]
  },
  {
   "cell_type": "code",
   "execution_count": null,
   "metadata": {},
   "outputs": [],
   "source": [
    "min_args"
   ]
  },
  {
   "cell_type": "code",
   "execution_count": null,
   "metadata": {},
   "outputs": [],
   "source": [
    "print(data[min_args[0]])\n",
    "print(data[min_args[1]])\n",
    "print('minimum distance:\\t', min_dist)"
   ]
  },
  {
   "cell_type": "markdown",
   "metadata": {},
   "source": [
    "## Define functions\n",
    "Why do we want to define functions in this case?"
   ]
  },
  {
   "cell_type": "code",
   "execution_count": null,
   "metadata": {},
   "outputs": [],
   "source": [
    "def distance_matrix(data):\n",
    "    dist = []\n",
    "    # Build the distance matrix. Use 2 for loops, the append list method and the euclidean distance formula\n",
    "    for i in range(data.shape[0]):\n",
    "        dist_row = []\n",
    "        for j in range(data.shape[0]):\n",
    "            single_dist = sum((data[i] - data[j]) ** 2) ** (1/2)\n",
    "            dist_row.append(single_dist)\n",
    "        dist.append(dist_row)    \n",
    "    return dist    \n",
    "\n",
    "def closest_points(dist_matrix):\n",
    "    # get variables to save closest neighbors later\n",
    "    min_args, min_dist = (None, 9e99)\n",
    "    for id_r, row in enumerate(dist_matrix):\n",
    "        row_ = row.copy()[:id_r]\n",
    "        dist = min(row_) if len(row_)>0 else 9e99\n",
    "        # check if the row's min distance is the lowest distance found so far\n",
    "        if dist<=min_dist:\n",
    "            # save points' ids and their distance\n",
    "            min_dist = dist \n",
    "            for id_diag, dist_val in enumerate(row_):\n",
    "                if dist_val==dist:\n",
    "                    min_args = (id_diag, id_r)\n",
    "                    break\n",
    "    return min_args, min_dist"
   ]
  },
  {
   "cell_type": "markdown",
   "metadata": {},
   "source": [
    "## Finding the `n` shortest distances"
   ]
  },
  {
   "cell_type": "code",
   "execution_count": null,
   "metadata": {},
   "outputs": [],
   "source": [
    "dist_matrix = distance_matrix(data)\n",
    "n_distances = 10\n",
    "\n",
    "distances = []\n",
    "for _ in range(n_distances):\n",
    "    c_points = closest_points(dist_matrix)\n",
    "    dist_matrix[c_points[0][1]][c_points[0][0]] = 9e99  # Increasing shortest distance value to find the next shortest distance\n",
    "    distances.append(c_points)\n",
    "\n",
    "distances"
   ]
  },
  {
   "cell_type": "code",
   "execution_count": null,
   "metadata": {},
   "outputs": [],
   "source": []
  }
 ],
 "metadata": {
  "interpreter": {
   "hash": "916dbcbb3f70747c44a77c7bcd40155683ae19c65e1c03b4aa3499c5328201f1"
  },
  "kernelspec": {
   "display_name": "Python 3",
   "language": "python",
   "name": "python3"
  },
  "language_info": {
   "codemirror_mode": {
    "name": "ipython",
    "version": 3
   },
   "file_extension": ".py",
   "mimetype": "text/x-python",
   "name": "python",
   "nbconvert_exporter": "python",
   "pygments_lexer": "ipython3",
   "version": "3.8.10"
  }
 },
 "nbformat": 4,
 "nbformat_minor": 4
}
